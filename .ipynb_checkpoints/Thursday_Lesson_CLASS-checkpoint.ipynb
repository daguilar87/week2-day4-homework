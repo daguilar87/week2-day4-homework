{
 "cells": [
  {
   "cell_type": "markdown",
   "metadata": {},
   "source": [
    "# Object-Oriented-Programming (OOP)"
   ]
  },
  {
   "cell_type": "markdown",
   "metadata": {},
   "source": [
    "## Tasks Today:\n",
    "\n",
    "   \n",
    "\n",
    "1) <b>Creating a Class (Initializing/Declaring)</b> <br>\n",
    "2) <b>Using a Class (Instantiating)</b> <br>\n",
    " &nbsp;&nbsp;&nbsp;&nbsp; a) Creating One Instance <br>\n",
    " &nbsp;&nbsp;&nbsp;&nbsp; b) Creating Multiple Instances <br>\n",
    " &nbsp;&nbsp;&nbsp;&nbsp; c) In-Class Exercise #1 - Create a Class 'Car' and instantiate three different makes of cars <br>\n",
    "3) <b>The \\__init\\__() Method</b> <br>\n",
    " &nbsp;&nbsp;&nbsp;&nbsp; a) The 'self' Attribute <br>\n",
    "4) <b>Class Attributes</b> <br>\n",
    " &nbsp;&nbsp;&nbsp;&nbsp; a) Initializing Attributes <br>\n",
    " &nbsp;&nbsp;&nbsp;&nbsp; b) Setting an Attribute Outside of the \\__init\\__() Method <br>\n",
    " &nbsp;&nbsp;&nbsp;&nbsp; c) Setting Defaults for Attributes <br>\n",
    " &nbsp;&nbsp;&nbsp;&nbsp; d) Accessing Class Attributes <br>\n",
    " &nbsp;&nbsp;&nbsp;&nbsp; e) Changing Class Attributes <br>\n",
    " &nbsp;&nbsp;&nbsp;&nbsp; f) In-Class Exercise #2 - Add a color and wheels attribute to your 'Car' class <br>\n",
    "5) <b>Class Methods</b> <br>\n",
    " &nbsp;&nbsp;&nbsp;&nbsp; a) Creating <br>\n",
    " &nbsp;&nbsp;&nbsp;&nbsp; b) Calling <br>\n",
    " &nbsp;&nbsp;&nbsp;&nbsp; c) Modifying an Attribute's Value Through a Method <br>\n",
    " &nbsp;&nbsp;&nbsp;&nbsp; d) Incrementing an Attribute's Value Through a Method <br>\n",
    " &nbsp;&nbsp;&nbsp;&nbsp; e) In-Class Exercise #3 - Add a method that prints the cars color and wheel number, then call them <br>\n",
    "6) <b>Inheritance</b> <br>\n",
    " &nbsp;&nbsp;&nbsp;&nbsp; a) Syntax for Inheriting from a Parent Class <br>\n",
    " &nbsp;&nbsp;&nbsp;&nbsp; b) The \\__init\\__() Method for a Child Class (super()) <br>\n",
    " &nbsp;&nbsp;&nbsp;&nbsp; c) Defining Attributes and Methods for the Child Class <br>\n",
    " &nbsp;&nbsp;&nbsp;&nbsp; d) Method Overriding <br>\n",
    " &nbsp;&nbsp;&nbsp;&nbsp; e) In-Class Exercise #4 - Create a class 'Ford' that inherits from 'Car' class and initialize it as a Blue Ford Explorer with 4 wheels using the super() method <br>\n",
    "7) <b>Classes as Attributes</b> <br>\n",
    "8) <b>Exercises</b> <br>\n",
    " &nbsp;&nbsp;&nbsp;&nbsp; a) Exercise #1 - Turn the shopping cart program from yesterday into an object-oriented program <br>"
   ]
  },
  {
   "cell_type": "markdown",
   "metadata": {},
   "source": [
    "## Creating a Class (Initializing/Declaring)\n",
    "<p>When creating a class, function, or even a variable you are initializing that object. Initializing and Declaring occur at the same time in Python, whereas in lower level languages you have to declare an object before initializing it. This is the first step in the process of using a class.</p>"
   ]
  },
  {
   "cell_type": "code",
   "execution_count": 1,
   "metadata": {},
   "outputs": [
    {
     "name": "stdout",
     "output_type": "stream",
     "text": [
      "4\n"
     ]
    }
   ],
   "source": [
    "class Car():\n",
    "    wheels = 4\n",
    "    color = 'blue'\n",
    "    \n",
    "print(Car.wheels)\n",
    "    \n"
   ]
  },
  {
   "cell_type": "markdown",
   "metadata": {},
   "source": [
    "## Using a Class (Instantiating)\n",
    "<p>The process of creating a class is called <i>Instantiating</i>. Each time you create a variable of that type of class, it is referred to as an <i>Instance</i> of that class. This is the second step in the process of using a class.</p>"
   ]
  },
  {
   "cell_type": "markdown",
   "metadata": {},
   "source": [
    "##### Creating One Instance"
   ]
  },
  {
   "cell_type": "code",
   "execution_count": 3,
   "metadata": {},
   "outputs": [
    {
     "name": "stdout",
     "output_type": "stream",
     "text": [
      "blue\n"
     ]
    }
   ],
   "source": [
    "ford = Car()\n",
    "\n",
    "\n",
    "print(ford.color)"
   ]
  },
  {
   "cell_type": "markdown",
   "metadata": {},
   "source": [
    "##### Creating Multiple Instances"
   ]
  },
  {
   "cell_type": "code",
   "execution_count": 6,
   "metadata": {},
   "outputs": [
    {
     "name": "stdout",
     "output_type": "stream",
     "text": [
      "blue\n",
      "blue\n",
      "blue\n"
     ]
    },
    {
     "ename": "NameError",
     "evalue": "name 'posrche' is not defined",
     "output_type": "error",
     "traceback": [
      "\u001b[1;31m---------------------------------------------------------------------------\u001b[0m",
      "\u001b[1;31mNameError\u001b[0m                                 Traceback (most recent call last)",
      "\u001b[1;32m~\\AppData\\Local\\Temp\\ipykernel_11296\\475104928.py\u001b[0m in \u001b[0;36m<module>\u001b[1;34m\u001b[0m\n\u001b[0;32m      8\u001b[0m \u001b[0mporsche\u001b[0m\u001b[1;33m.\u001b[0m\u001b[0mbumper\u001b[0m \u001b[1;33m=\u001b[0m \u001b[1;34m'rounded'\u001b[0m\u001b[1;33m\u001b[0m\u001b[1;33m\u001b[0m\u001b[0m\n\u001b[0;32m      9\u001b[0m \u001b[0mprint\u001b[0m\u001b[1;33m(\u001b[0m\u001b[0mporsche\u001b[0m\u001b[1;33m.\u001b[0m\u001b[0mcolor\u001b[0m\u001b[1;33m)\u001b[0m\u001b[1;33m\u001b[0m\u001b[1;33m\u001b[0m\u001b[0m\n\u001b[1;32m---> 10\u001b[1;33m \u001b[0mprint\u001b[0m\u001b[1;33m(\u001b[0m\u001b[0mposrche\u001b[0m\u001b[1;33m.\u001b[0m\u001b[0mbumper\u001b[0m\u001b[1;33m)\u001b[0m\u001b[1;33m\u001b[0m\u001b[1;33m\u001b[0m\u001b[0m\n\u001b[0m",
      "\u001b[1;31mNameError\u001b[0m: name 'posrche' is not defined"
     ]
    }
   ],
   "source": [
    "chevy = Car()\n",
    "honda = Car()\n",
    "porsche = Car()\n",
    "\n",
    "print(chevy.color)\n",
    "print(honda.color)\n",
    "# print(posrche.bumper)\n",
    "porsche.bumper = 'rounded'\n",
    "print(porsche.color)\n",
    "print(posrche.bumper)"
   ]
  },
  {
   "cell_type": "markdown",
   "metadata": {},
   "source": [
    "##### In-Class Exercise #1 - Create a Class 'Car' and Instantiate three different makes of cars"
   ]
  },
  {
   "cell_type": "code",
   "execution_count": 11,
   "metadata": {},
   "outputs": [
    {
     "name": "stdout",
     "output_type": "stream",
     "text": [
      "brown\n",
      "4\n",
      "brown\n"
     ]
    }
   ],
   "source": [
    "class Cars():\n",
    "    wheels = 4\n",
    "    color = 'brown'\n",
    "    \n",
    "ram = Cars()\n",
    "chevy = Cars()\n",
    "toyota = Cars()\n",
    "\n",
    "print(ram.color)\n",
    "print(chevy.wheels)\n",
    "print(toyota.color)"
   ]
  },
  {
   "cell_type": "markdown",
   "metadata": {},
   "source": [
    "## The \\__init\\__() Method <br>\n",
    "<p>This method is used in almost every created class, and called only once upon the creation of the class instance. This method will initialize all variables needed for the object.</p>"
   ]
  },
  {
   "cell_type": "code",
   "execution_count": 14,
   "metadata": {},
   "outputs": [
    {
     "name": "stdout",
     "output_type": "stream",
     "text": [
      "5\n",
      "4\n"
     ]
    }
   ],
   "source": [
    "class Car():\n",
    "    #constant attribute  wheels = 4\n",
    "    \n",
    "    def __init__(self, wheels, color):\n",
    "        self.wheels = wheels\n",
    "        self.color = color\n",
    "        \n",
    "ford = Car(4, 'brown')\n",
    "honda = Car(5, 'red')\n",
    "\n",
    "print(honda.wheels)\n",
    "print(ford.wheels)"
   ]
  },
  {
   "cell_type": "markdown",
   "metadata": {},
   "source": [
    "##### The 'self' Attribute <br>\n",
    "<p>This attribute is required to keep track of specific instance's attributes. Without the self attribute, the program would not know how to reference or keep track of an instance's attributes.</p>"
   ]
  },
  {
   "cell_type": "code",
   "execution_count": null,
   "metadata": {},
   "outputs": [],
   "source": [
    "# see above"
   ]
  },
  {
   "cell_type": "markdown",
   "metadata": {},
   "source": [
    "## Class Attributes <br>\n",
    "<p>While variables are inside of a class, they are referred to as attributes and not variables. When someone says 'attribute' you know they're speaking about a class. Attributes can be initialized through the init method, or outside of it.</p>"
   ]
  },
  {
   "cell_type": "markdown",
   "metadata": {},
   "source": [
    "##### Initializing Attributes"
   ]
  },
  {
   "cell_type": "code",
   "execution_count": 15,
   "metadata": {},
   "outputs": [
    {
     "name": "stdout",
     "output_type": "stream",
     "text": [
      "super-loud\n"
     ]
    }
   ],
   "source": [
    "# see above\n",
    "\n",
    "class Toy():\n",
    "    def __init__(self, horn, wheels):\n",
    "        self.horn = horn\n",
    "        self.wheels =wheels\n",
    "\n",
    "tonka = Toy('super-loud', 12)\n",
    "hotwheels = Toy('tiny-squeak', 4)\n",
    "\n",
    "print(tonka.horn)\n"
   ]
  },
  {
   "cell_type": "markdown",
   "metadata": {},
   "source": [
    "##### Accessing Class Attributes"
   ]
  },
  {
   "cell_type": "code",
   "execution_count": null,
   "metadata": {
    "scrolled": true
   },
   "outputs": [],
   "source": [
    "# See Above\n",
    "print(tonka.horn)"
   ]
  },
  {
   "cell_type": "markdown",
   "metadata": {},
   "source": [
    "##### Setting Defaults for Attributes"
   ]
  },
  {
   "cell_type": "code",
   "execution_count": 18,
   "metadata": {},
   "outputs": [
    {
     "name": "stdout",
     "output_type": "stream",
     "text": [
      "Black\n",
      "manual\n"
     ]
    }
   ],
   "source": [
    "class Car():\n",
    "    def __init__(self, wheels, trans='auto'):\n",
    "        self.wheels = wheels\n",
    "        self.color = 'Black'\n",
    "        self.trans = trans\n",
    "        \n",
    "ford = Car(4, trans='manual')\n",
    "print(ford.color)\n",
    "print(ford.trans)"
   ]
  },
  {
   "cell_type": "markdown",
   "metadata": {},
   "source": [
    "##### Changing Class Attributes <br>\n",
    "<p>Keep in mind there are global class attributes and then there are attributes only available to each class instance which won't effect other classes.</p>"
   ]
  },
  {
   "cell_type": "code",
   "execution_count": 19,
   "metadata": {},
   "outputs": [
    {
     "name": "stdout",
     "output_type": "stream",
     "text": [
      "White\n"
     ]
    }
   ],
   "source": [
    "ford.color = 'White'\n",
    "\n",
    "print(ford.color)"
   ]
  },
  {
   "cell_type": "code",
   "execution_count": null,
   "metadata": {},
   "outputs": [],
   "source": []
  },
  {
   "cell_type": "markdown",
   "metadata": {},
   "source": [
    "##### In-Class Exercise #2 - Add a doors and seats attribute to your 'Car' class then print out two different instances with different doors and seats"
   ]
  },
  {
   "cell_type": "code",
   "execution_count": 22,
   "metadata": {},
   "outputs": [
    {
     "name": "stdout",
     "output_type": "stream",
     "text": [
      "5\n",
      "2\n"
     ]
    }
   ],
   "source": [
    "class Car():\n",
    "    def __init__(self, doors, seats):\n",
    "        self.doors = doors\n",
    "        self.seats = seats\n",
    "ram = Car(4,5) #important to create the value for class like this so it knows what ram is.\n",
    "print(ram.seats)\n",
    "ford = Car(2,7)\n",
    "print(ford.doors)"
   ]
  },
  {
   "cell_type": "markdown",
   "metadata": {},
   "source": [
    "## Class Methods <br>\n",
    "<p>While inside of a class, functions are referred to as 'methods'. If you hear someone mention methods, they're speaking about classes. Methods are essentially functions, but only callable on the instances of a class.</p>"
   ]
  },
  {
   "cell_type": "markdown",
   "metadata": {},
   "source": [
    "##### Creating"
   ]
  },
  {
   "cell_type": "code",
   "execution_count": 24,
   "metadata": {},
   "outputs": [],
   "source": [
    "class Truck():\n",
    "    \"\"\"\n",
    "    class Truck that will have some basic attributes like wheels, gas tank, and items in the back.\n",
    "    \n",
    "    \n",
    "    \"\"\"\n",
    "    def __init__(self, wheels, gas_tank, items):\n",
    "        self.wheels = wheels\n",
    "        self.gas_tank = gas_tank\n",
    "        self.items = items\n",
    "        \n",
    "    def showItems(self):\n",
    "        print(\"let's look in the back and see what there is. . .\")\n",
    "        for i in self.items:\n",
    "            print(i)\n",
    "    \n",
    "    def showTank(self):\n",
    "        print(f\"you've got {self.gas_tank} gallons of gas\")\n",
    "        \n",
    "    def addItems(self):\n",
    "        item = input('What are you throwing in the back?')\n",
    "        self.items.append(item)\n",
    "        \n",
    "    def checkTank(self, gallons):\n",
    "        self.gas_tank = gallons\n",
    "        \n",
    "    def fillTank(self, gallons):\n",
    "        self.gas_tank += gallons\n",
    "        print(f\"Now you've got {self.gas_tank} gallons of gas!\")\n",
    "        \n",
    "#     dodge = Truck(4, 10, [])\n",
    "\n",
    "# def run():\n",
    "#     while True:\n",
    "#         resp = input('What to do? a for add items, s for show, or q for quit')\n",
    "        \n",
    "#         if resp.lower() == \"q\":\n",
    "#             self.showItems()\n",
    "#             print('thanks for spending time with the truck game!')\n",
    "#             break\n",
    "#         elif resp.lower() == \"a\":\n",
    "#             dodge.addItems()\n",
    "#         elif resp.lower() == 's':\n",
    "#             dodge.showItems()\n",
    "\n",
    "\n",
    "        "
   ]
  },
  {
   "cell_type": "markdown",
   "metadata": {},
   "source": [
    "##### Calling"
   ]
  },
  {
   "cell_type": "code",
   "execution_count": 70,
   "metadata": {},
   "outputs": [
    {
     "name": "stdout",
     "output_type": "stream",
     "text": [
      "What to do? a for add items, s for show, or q for quita\n",
      "What are you throwing in the back?apples\n",
      "What to do? a for add items, s for show, or q for quitapples\n",
      "What to do? a for add items, s for show, or q for quits\n",
      "let's look in the back and see what there is. . .\n",
      "apples\n",
      "What to do? a for add items, s for show, or q for quitquit\n",
      "What to do? a for add items, s for show, or q for quitq\n"
     ]
    },
    {
     "ename": "NameError",
     "evalue": "name 'self' is not defined",
     "output_type": "error",
     "traceback": [
      "\u001b[1;31m---------------------------------------------------------------------------\u001b[0m",
      "\u001b[1;31mNameError\u001b[0m                                 Traceback (most recent call last)",
      "\u001b[1;32m~\\AppData\\Local\\Temp\\ipykernel_11296\\2400637715.py\u001b[0m in \u001b[0;36m<module>\u001b[1;34m\u001b[0m\n\u001b[0;32m     17\u001b[0m \u001b[1;33m\u001b[0m\u001b[0m\n\u001b[0;32m     18\u001b[0m \u001b[1;33m\u001b[0m\u001b[0m\n\u001b[1;32m---> 19\u001b[1;33m \u001b[0mrun\u001b[0m\u001b[1;33m(\u001b[0m\u001b[1;33m)\u001b[0m\u001b[1;33m\u001b[0m\u001b[1;33m\u001b[0m\u001b[0m\n\u001b[0m\u001b[0;32m     20\u001b[0m \u001b[1;33m\u001b[0m\u001b[0m\n",
      "\u001b[1;32m~\\AppData\\Local\\Temp\\ipykernel_11296\\2400637715.py\u001b[0m in \u001b[0;36mrun\u001b[1;34m()\u001b[0m\n\u001b[0;32m      8\u001b[0m \u001b[1;33m\u001b[0m\u001b[0m\n\u001b[0;32m      9\u001b[0m         \u001b[1;32mif\u001b[0m \u001b[0mresp\u001b[0m\u001b[1;33m.\u001b[0m\u001b[0mlower\u001b[0m\u001b[1;33m(\u001b[0m\u001b[1;33m)\u001b[0m \u001b[1;33m==\u001b[0m \u001b[1;34m\"q\"\u001b[0m\u001b[1;33m:\u001b[0m\u001b[1;33m\u001b[0m\u001b[1;33m\u001b[0m\u001b[0m\n\u001b[1;32m---> 10\u001b[1;33m             \u001b[0mself\u001b[0m\u001b[1;33m.\u001b[0m\u001b[0mshowItems\u001b[0m\u001b[1;33m(\u001b[0m\u001b[1;33m)\u001b[0m\u001b[1;33m\u001b[0m\u001b[1;33m\u001b[0m\u001b[0m\n\u001b[0m\u001b[0;32m     11\u001b[0m             \u001b[0mprint\u001b[0m\u001b[1;33m(\u001b[0m\u001b[1;34m'thanks for spending time with the truck game!'\u001b[0m\u001b[1;33m)\u001b[0m\u001b[1;33m\u001b[0m\u001b[1;33m\u001b[0m\u001b[0m\n\u001b[0;32m     12\u001b[0m             \u001b[1;32mbreak\u001b[0m\u001b[1;33m\u001b[0m\u001b[1;33m\u001b[0m\u001b[0m\n",
      "\u001b[1;31mNameError\u001b[0m: name 'self' is not defined"
     ]
    }
   ],
   "source": [
    "# See Above\n",
    "\n",
    "dodge = Truck(4, 10, []) \n",
    "\n",
    "def run():\n",
    "    while True:\n",
    "        resp = input('What to do? a for add items, s for show, or q for quit')\n",
    "        \n",
    "        if resp.lower() == \"q\":\n",
    "            self.showItems()\n",
    "            print('thanks for spending time with the truck game!')\n",
    "            break\n",
    "        elif resp.lower() == \"a\":\n",
    "            dodge.addItems()\n",
    "        elif resp.lower() == 's':\n",
    "            dodge.showItems()\n",
    "\n",
    "      \n",
    "run()\n",
    "\n"
   ]
  },
  {
   "cell_type": "markdown",
   "metadata": {},
   "source": [
    "##### Modifying an Attribute's Value Through a Method"
   ]
  },
  {
   "cell_type": "code",
   "execution_count": 41,
   "metadata": {},
   "outputs": [
    {
     "name": "stdout",
     "output_type": "stream",
     "text": [
      "you've got 10 gallons of gas\n"
     ]
    },
    {
     "ename": "AttributeError",
     "evalue": "'Truck' object has no attribute 'checktank'",
     "output_type": "error",
     "traceback": [
      "\u001b[1;31m---------------------------------------------------------------------------\u001b[0m",
      "\u001b[1;31mAttributeError\u001b[0m                            Traceback (most recent call last)",
      "\u001b[1;32m~\\AppData\\Local\\Temp\\ipykernel_11296\\2556357530.py\u001b[0m in \u001b[0;36m<module>\u001b[1;34m\u001b[0m\n\u001b[0;32m      1\u001b[0m \u001b[0mdodge\u001b[0m\u001b[1;33m.\u001b[0m\u001b[0mshowTank\u001b[0m\u001b[1;33m(\u001b[0m\u001b[1;33m)\u001b[0m\u001b[1;33m\u001b[0m\u001b[1;33m\u001b[0m\u001b[0m\n\u001b[1;32m----> 2\u001b[1;33m \u001b[0mdodge\u001b[0m\u001b[1;33m.\u001b[0m\u001b[0mchecktank\u001b[0m\u001b[1;33m(\u001b[0m\u001b[1;36m56\u001b[0m\u001b[1;33m)\u001b[0m\u001b[1;33m\u001b[0m\u001b[1;33m\u001b[0m\u001b[0m\n\u001b[0m\u001b[0;32m      3\u001b[0m \u001b[0mdodge\u001b[0m\u001b[1;33m.\u001b[0m\u001b[0mshowTank\u001b[0m\u001b[1;33m(\u001b[0m\u001b[1;33m)\u001b[0m\u001b[1;33m\u001b[0m\u001b[1;33m\u001b[0m\u001b[0m\n",
      "\u001b[1;31mAttributeError\u001b[0m: 'Truck' object has no attribute 'checktank'"
     ]
    }
   ],
   "source": [
    "dodge.showTank()\n",
    "dodge.checktank(56)\n",
    "dodge.showTank()"
   ]
  },
  {
   "cell_type": "markdown",
   "metadata": {},
   "source": [
    "##### Incrementing an Attribute's Value Through a Method"
   ]
  },
  {
   "cell_type": "code",
   "execution_count": null,
   "metadata": {},
   "outputs": [],
   "source": []
  },
  {
   "cell_type": "markdown",
   "metadata": {},
   "source": [
    "##### In-Class Exercise #3 - Add a method that takes in three parameters of year, doors and seats and prints out a formatted print statement with make, model, year, seats, and doors"
   ]
  },
  {
   "cell_type": "code",
   "execution_count": 45,
   "metadata": {},
   "outputs": [
    {
     "name": "stdout",
     "output_type": "stream",
     "text": [
      "This car is from2019 explorer and has 4 doors and 5 seats)\n"
     ]
    }
   ],
   "source": [
    "# Create class with 2 paramters inside of the __init__ which are make and model\n",
    "\n",
    "# Inside of the Car class create a method that has 4 parameter in total (self,year,door,seats)\n",
    "\n",
    "# Output: This car is from 2019 and is a Ford Expolorer and has 4 doors and 5 seats\n",
    "\n",
    "\n",
    "class Car():\n",
    "    def __init__(self, year, door, seats):\n",
    "        self.year = year\n",
    "        self.door = door\n",
    "        self.seats = seats\n",
    "\n",
    "ford= Car(2019, 4, 5)\n",
    "\n",
    "print(F'This car is from {ford.year} explorer and has {ford.door} doors and {ford.seats} seats)'\n"
   ]
  },
  {
   "cell_type": "markdown",
   "metadata": {},
   "source": [
    "## Inheritance <br>\n",
    "<p>You can create a child-parent relationship between two classes by using inheritance. What this allows you to do is have overriding methods, but also inherit traits from the parent class. Think of it as an actual parent and child, the child will inherit the parent's genes, as will the classes in OOP</p>"
   ]
  },
  {
   "cell_type": "markdown",
   "metadata": {},
   "source": [
    "##### Syntax for Inheriting from a Parent Class"
   ]
  },
  {
   "cell_type": "code",
   "execution_count": 52,
   "metadata": {},
   "outputs": [
    {
     "name": "stdout",
     "output_type": "stream",
     "text": [
      "breathing sound\n",
      "None\n",
      "Bark!\n"
     ]
    }
   ],
   "source": [
    "class Animal():\n",
    "    def __init__(self, name, species, legs=4):\n",
    "        self.name = name\n",
    "        self.species = species\n",
    "        self.legs = legs\n",
    "        \n",
    "    def makeSound(self):\n",
    "        print('breathing sound')\n",
    "\n",
    "# class Cat(Animal):\n",
    "#     pass\n",
    "\n",
    "# bear = Animal('Big Brown', 'Brown Bear')\n",
    "# print(bear)\n",
    "# print(bear.name)\n",
    "\n",
    "# c = Cat('Felix', 'feline')\n",
    "# print(c)\n",
    "# print(c.name)\n",
    "# c.makeSound()\n",
    "\n",
    "class Dog(Animal):\n",
    "    \n",
    "    def printInfo(self):\n",
    "        print(f\"the dog has {self.legs} legs and is a member of the {self.species} family\")\n",
    "\n",
    "class Mutt(Dog):\n",
    "    color = 'black/brown'\n",
    "    def __init__(self, name, species, eye_color, legs=4):\n",
    "        Dog.__init__(self, name, species, legs)\n",
    "        self.eye_color= eye_color\n",
    "        \n",
    "    def makeSound(self):\n",
    "        return 'Bark!'\n",
    "lassie = Dog('Lassie', 'Canine')\n",
    "bear = Animal('Big Brown', 'Brown Bear')\n",
    "fido = Mutt('Fido', 'Mutt', 'brown')\n",
    "\n",
    "print(bear.makeSound())\n",
    "print(fido.makeSound())"
   ]
  },
  {
   "cell_type": "markdown",
   "metadata": {},
   "source": [
    "##### The \\__init\\__() Method for a Child Class - super()"
   ]
  },
  {
   "cell_type": "code",
   "execution_count": null,
   "metadata": {
    "scrolled": true
   },
   "outputs": [],
   "source": [
    "class Mutt(Dog):\n",
    "    color = 'black/brown'\n",
    "    #over writing the animal class __init__ method\n",
    "    def __init__(self, name, species, eye_color, legs=4):\n",
    "        super().__init__(self, name, species, legs)\n",
    "        self.eye_color= eye_color\n",
    "        \n",
    "    def makeSound(self):\n",
    "        return 'Bark!'"
   ]
  },
  {
   "cell_type": "markdown",
   "metadata": {},
   "source": [
    "##### Defining Attributes and Methods for the Child Class"
   ]
  },
  {
   "cell_type": "code",
   "execution_count": null,
   "metadata": {},
   "outputs": [],
   "source": [
    "# See Above"
   ]
  },
  {
   "cell_type": "markdown",
   "metadata": {},
   "source": [
    "##### Method Overriding"
   ]
  },
  {
   "cell_type": "code",
   "execution_count": null,
   "metadata": {},
   "outputs": [],
   "source": [
    "# See Above"
   ]
  },
  {
   "cell_type": "markdown",
   "metadata": {},
   "source": [
    "## Classes as Attributes <br>\n",
    "<p>Classes can also be used as attributes within another class. This is useful in situations where you need to keep variables locally stored, instead of globally stored.</p>"
   ]
  },
  {
   "cell_type": "code",
   "execution_count": 53,
   "metadata": {},
   "outputs": [
    {
     "name": "stdout",
     "output_type": "stream",
     "text": [
      "212\n"
     ]
    },
    {
     "data": {
      "text/plain": [
       "'2023 Tesla X 212'"
      ]
     },
     "execution_count": 53,
     "metadata": {},
     "output_type": "execute_result"
    }
   ],
   "source": [
    "class Battery():\n",
    "    def __init__(self, cells):\n",
    "        self.volts = 12\n",
    "        self.cells = cells\n",
    "class ElecCar():\n",
    "    def __init__(self, year, make, model, battery):\n",
    "        self.year = year\n",
    "        self.make = make\n",
    "        self.model = model\n",
    "        self.battery = battery\n",
    "        \n",
    "    def printInfo(self):\n",
    "        return f\"{self.year} {self.make} {self.model} {self.battery.cells}\"\n",
    "batt = Battery(212)\n",
    "tesla = ElecCar(2023, 'Tesla', 'X', batt)\n",
    "print(tesla.battery.cells)\n",
    "tesla.printInfo()"
   ]
  },
  {
   "cell_type": "markdown",
   "metadata": {},
   "source": [
    "# Exercises"
   ]
  },
  {
   "cell_type": "markdown",
   "metadata": {},
   "source": [
    "### Exercise 1 - Turn the shopping cart program from yesterday into an object-oriented program\n",
    "\n",
    "The comments in the cell below are there as a guide for thinking about the problem. However, if you feel a different way is best for you and your own thought process, please do what feels best for you by all means."
   ]
  },
  {
   "cell_type": "code",
   "execution_count": 83,
   "metadata": {},
   "outputs": [
    {
     "name": "stdout",
     "output_type": "stream",
     "text": [
      "Do you want to : Show/Add/Delete or Quit?add\n",
      "What do you want to add to your cart?oranges\n",
      "Do you want to : Show/Add/Delete or Quit?add\n",
      "What do you want to add to your cart?bananas\n",
      "Do you want to : Show/Add/Delete or Quit?show\n",
      "oranges\n",
      "bananas\n",
      "Do you want to : Show/Add/Delete or Quit?delete\n",
      "What do you want to delete?bananas\n",
      "Do you want to : Show/Add/Delete or Quit?quit\n",
      "oranges\n"
     ]
    }
   ],
   "source": [
    "# Create a class called cart that retains items and has methods to add, remove, and show\n",
    "# self.cart = {}\n",
    "\n",
    "class Cart():\n",
    "\n",
    "    def __init__(self, items ):\n",
    "        self.items = items\n",
    "\n",
    "    def addItems(self):\n",
    "        items = input('What do you want to add to your cart?')\n",
    "        self.items.append(items)\n",
    "    \n",
    "    def deleteItems(self):\n",
    "        items = input('What do you want to delete?')\n",
    "        self.items.remove(items)\n",
    "\n",
    "    def showItems(self):\n",
    "        for i in self.items:\n",
    "            print(i)\n",
    "    \n",
    "    def run(self):\n",
    "        while True:\n",
    "            response = input(\"Do you want to : Show/Add/Delete or Quit?\")\n",
    "            \n",
    "            if response.lower() == \"add\":\n",
    "                self.addItems()\n",
    "            elif response.lower() == 'delete':\n",
    "                self.deleteItems()\n",
    "            elif response.lower() == \"show\":\n",
    "                self.showItems()\n",
    "            elif response.lower() == \"quit\":\n",
    "                self.showItems()\n",
    "                break\n",
    "shop = Cart([])\n",
    "shop.run()\n",
    "\n"
   ]
  },
  {
   "cell_type": "markdown",
   "metadata": {},
   "source": [
    "### Exercise 2 - Write a Python class which has two methods get_String and print_String. get_String accept a string from the user and print_String print the string in upper case"
   ]
  },
  {
   "cell_type": "code",
   "execution_count": 82,
   "metadata": {},
   "outputs": [
    {
     "name": "stdout",
     "output_type": "stream",
     "text": [
      "enter a string pleasehello\n",
      "HELLO\n"
     ]
    }
   ],
   "source": [
    "class Python():\n",
    "    def __init__(self, python):\n",
    "        self.python = python\n",
    "        \n",
    "    def getString(self):\n",
    "        python = input(str('enter a string please'))\n",
    "        self.python.append(python)\n",
    "    def printString(self):\n",
    "        for i in self.python:\n",
    "            print(i.upper())\n",
    "   \n",
    "string = Python([])\n",
    "string.getString()\n",
    "string.printString()\n",
    "\n",
    "        "
   ]
  }
 ],
 "metadata": {
  "kernelspec": {
   "display_name": "Python 3 (ipykernel)",
   "language": "python",
   "name": "python3"
  },
  "language_info": {
   "codemirror_mode": {
    "name": "ipython",
    "version": 3
   },
   "file_extension": ".py",
   "mimetype": "text/x-python",
   "name": "python",
   "nbconvert_exporter": "python",
   "pygments_lexer": "ipython3",
   "version": "3.9.13"
  }
 },
 "nbformat": 4,
 "nbformat_minor": 2
}
